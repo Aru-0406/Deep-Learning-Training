{
  "nbformat": 4,
  "nbformat_minor": 0,
  "metadata": {
    "colab": {
      "name": "chatbot.ipynb",
      "provenance": [],
      "collapsed_sections": [],
      "include_colab_link": true
    },
    "kernelspec": {
      "name": "python3",
      "display_name": "Python 3"
    },
    "language_info": {
      "name": "python"
    }
  },
  "cells": [
    {
      "cell_type": "markdown",
      "metadata": {
        "id": "view-in-github",
        "colab_type": "text"
      },
      "source": [
        "<a href=\"https://colab.research.google.com/github/Aru-0406/Deep-Learning-Training/blob/main/chatbot.ipynb\" target=\"_parent\"><img src=\"https://colab.research.google.com/assets/colab-badge.svg\" alt=\"Open In Colab\"/></a>"
      ]
    },
    {
      "cell_type": "code",
      "execution_count": null,
      "metadata": {
        "id": "Kan5-poFBHIR"
      },
      "outputs": [],
      "source": [
        "import io\n",
        "import random\n",
        "import string\n",
        "import numpy as np\n",
        "from sklearn.feature_extraction.text import TfidfVectorizer\n",
        "from sklearn.metrics.pairwise import cosine_similarity\n",
        "import warnings\n",
        "warnings.filterwarnings('ignore')\n"
      ]
    },
    {
      "cell_type": "code",
      "source": [
        "import nltk\n",
        "from nltk.stem import WordNetLemmatizer\n",
        "nltk.download('popular', quiet = True)"
      ],
      "metadata": {
        "colab": {
          "base_uri": "https://localhost:8080/"
        },
        "id": "jczh9LC8BkPP",
        "outputId": "18485892-c2b2-4c84-c8b6-15bde175f4ee"
      },
      "execution_count": null,
      "outputs": [
        {
          "output_type": "execute_result",
          "data": {
            "text/plain": [
              "True"
            ]
          },
          "metadata": {},
          "execution_count": 2
        }
      ]
    },
    {
      "cell_type": "code",
      "source": [
        "f = open('/content/sample_data/NLP.txt', 'r', errors = 'ignore')"
      ],
      "metadata": {
        "id": "WXKqQibGXgKB"
      },
      "execution_count": null,
      "outputs": []
    },
    {
      "cell_type": "code",
      "source": [
        "text = f.read()"
      ],
      "metadata": {
        "id": "MBB0zr5xXiiw"
      },
      "execution_count": null,
      "outputs": []
    },
    {
      "cell_type": "code",
      "source": [
        "print(text)\n",
        "\n",
        "text = text.lower()"
      ],
      "metadata": {
        "colab": {
          "base_uri": "https://localhost:8080/"
        },
        "id": "ksI0cq_FB-p6",
        "outputId": "3abdcdfd-3b10-48d5-c399-078208efb68b"
      },
      "execution_count": null,
      "outputs": [
        {
          "output_type": "stream",
          "name": "stdout",
          "text": [
            "Natural Language Processing (NLP)\n",
            "Natural language processing strives to build machines that understand and respond to text or voice data—and respond with text or speech of their own—in much the same way humans do.\n",
            "What is natural language processing?\n",
            "Natural language processing (NLP) refers to the branch of computer science—and more specifically, the branch of artificial intelligence or AI—concerned with giving computers the ability to understand text and spoken words in much the same way human beings can.\n",
            "\n",
            "NLP combines computational linguistics—rule-based modeling of human language—with statistical, machine learning, and deep learning models. Together, these technologies enable computers to process human language in the form of text or voice data and to ‘understand’ its full meaning, complete with the speaker or writer’s intent and sentiment.\n",
            "\n",
            "NLP drives computer programs that translate text from one language to another, respond to spoken commands, and summarize large volumes of text rapidly—even in real time. There’s a good chance you’ve interacted with NLP in the form of voice-operated GPS systems, digital assistants, speech-to-text dictation software, customer service chatbots, and other consumer conveniences. But NLP also plays a growing role in enterprise solutions that help streamline business operations, increase employee productivity, and simplify mission-critical business processes.\n",
            "\n",
            "NLP tasks\n",
            "Human language is filled with ambiguities that make it incredibly difficult to write software that accurately determines the intended meaning of text or voice data. Homonyms, homophones, sarcasm, idioms, metaphors, grammar and usage exceptions, variations in sentence structure—these just a few of the irregularities of human language that take humans years to learn, but that programmers must teach natural language-driven applications to recognize and understand accurately from the start, if those applications are going to be useful.\n",
            "\n",
            "Several NLP tasks break down human text and voice data in ways that help the computer make sense of what it's ingesting. Some of these tasks include the following:\n",
            "\n",
            "Speech recognition, also called speech-to-text, is the task of reliably converting voice data into text data. Speech recognition is required for any application that follows voice commands or answers spoken questions. What makes speech recognition especially challenging is the way people talk—quickly, slurring words together, with varying emphasis and intonation, in different accents, and often using incorrect grammar.\n",
            "Part of speech tagging, also called grammatical tagging, is the process of determining the part of speech of a particular word or piece of text based on its use and context. Part of speech identifies ‘make’ as a verb in ‘I can make a paper plane,’ and as a noun in ‘What make of car do you own?’\n",
            "Word sense disambiguation is the selection of the meaning of a word with multiple meanings  through a process of semantic analysis that determine the word that makes the most sense in the given context. For example, word sense disambiguation helps distinguish the meaning of the verb 'make' in ‘make the grade’ (achieve) vs. ‘make a bet’ (place).\n",
            "Named entity recognition, or NEM, identifies words or phrases as useful entities. NEM identifies ‘Kentucky’ as a location or ‘Fred’ as a man's name.\n",
            "Co-reference resolution is the task of identifying if and when two words refer to the same entity. The most common example is determining the person or object to which a certain pronoun refers (e.g., ‘she’ = ‘Mary’),  but it can also involve identifying a metaphor or an idiom in the text  (e.g., an instance in which 'bear' isn't an animal but a large hairy person).\n",
            "Sentiment analysis attempts to extract subjective qualities—attitudes, emotions, sarcasm, confusion, suspicion—from text.\n",
            "Natural language generation is sometimes described as the opposite of speech recognition or speech-to-text; it's the task of putting structured information into human language. \n",
            "See the blog post “NLP vs. NLU vs. NLG: the differences between three natural language processing concepts” for a deeper look into how these concepts relate.\n",
            "\n",
            "NLP tools and approaches\n",
            "Python and the Natural Language Toolkit (NLTK)\n",
            "The Python programing language provides a wide range of tools and libraries for attacking specific NLP tasks. Many of these are found in the Natural Language Toolkit, or NLTK, an open source collection of libraries, programs, and education resources for building NLP programs.\n",
            "\n",
            "The NLTK includes libraries for many of the NLP tasks listed above, plus libraries for subtasks, such as sentence parsing, word segmentation, stemming and lemmatization (methods of trimming words down to their roots), and tokenization (for breaking phrases, sentences, paragraphs and passages into tokens that help the computer better understand the text). It also includes libraries for implementing capabilities such as semantic reasoning, the ability to reach logical conclusions based on facts extracted from text.\n",
            "\n",
            "Statistical NLP, machine learning, and deep learning\n",
            "The earliest NLP applications were hand-coded, rules-based systems that could perform certain NLP tasks, but couldn't easily scale to accommodate a seemingly endless stream of exceptions or the increasing volumes of text and voice data.\n",
            "\n",
            "Enter statistical NLP, which combines computer algorithms with machine learning and deep learning models to automatically extract, classify, and label elements of text and voice data and then assign a statistical likelihood to each possible meaning of those elements. Today, deep learning models and learning techniques based on convolutional neural networks (CNNs) and recurrent neural networks (RNNs) enable NLP systems that 'learn' as they work and extract ever more accurate meaning from huge volumes of raw, unstructured, and unlabeled text and voice data sets. \n",
            "\n",
            "For a deeper dive into the nuances between these technologies and their learning approaches, see “AI vs. Machine Learning vs. Deep Learning vs. Neural Networks: What’s the Difference?”\n",
            "\n",
            "NLP use cases\n",
            "Natural language processing is the driving force behind machine intelligence in many modern real-world applications. Here are a few examples:\n",
            "\n",
            "Spam detection: You may not think of spam detection as an NLP solution, but the best spam detection technologies use NLP's text classification capabilities to scan emails for language that often indicates spam or phishing. These indicators can include overuse of financial terms, characteristic bad grammar, threatening language, inappropriate urgency, misspelled company names, and more. Spam detection is one of a handful of NLP problems that experts consider 'mostly solved' (although you may argue that this doesn’t match your email experience).\n",
            "Machine translation: Google Translate is an example of widely available NLP technology at work. Truly useful machine translation involves more than replacing words in one language with words of another.  Effective translation has to capture accurately the meaning and tone of the input language and translate it to text with the same meaning and desired impact in the output language. Machine translation tools are making good progress in terms of accuracy. A great way to test any machine translation tool is to translate text to one language and then back to the original. An oft-cited classic example: Not long ago, translating “The spirit is willing but the flesh is weak” from English to Russian and back yielded “The vodka is good but the meat is rotten.” Today, the result is “The spirit desires, but the flesh is weak,” which isn’t perfect, but inspires much more confidence in the English-to-Russian translation.\n",
            "Virtual agents and chatbots: Virtual agents such as Apple's Siri and Amazon's Alexa use speech recognition to recognize patterns in voice commands and natural language generation to respond with appropriate action or helpful comments. Chatbots perform the same magic in response to typed text entries. The best of these also learn to recognize contextual clues about human requests and use them to provide even better responses or options over time. The next enhancement for these applications is question answering, the ability to respond to our questions—anticipated or not—with relevant and helpful answers in their own words.\n",
            "Social media sentiment analysis: NLP has become an essential business tool for uncovering hidden data insights from social media channels. Sentiment analysis can analyze language used in social media posts, responses, reviews, and more to extract attitudes and emotions in response to products, promotions, and events–information companies can use in product designs, advertising campaigns, and more.\n",
            "Text summarization: Text summarization uses NLP techniques to digest huge volumes of digital text and create summaries and synopses for indexes, research databases, or busy readers who don't have time to read full text. The best text summarization applications use semantic reasoning and natural language generation (NLG) to add useful context and conclusions to summaries.\n",
            "Natural language processing and IBM Watson\n",
            "IBM has innovated in the artificial intelligence space by pioneering NLP-driven tools and services that enable organizations to automate their complex business processes while gaining essential business insights. These tools include:\n",
            "Watson Discovery - Surface high-quality answers and rich insights from your complex enterprise documents - tables, PDFs, big data and more - with AI search. Enable your employees to make more informed decisions and save time with real-time search engine and text mining capabilities that perform text extraction and analyze relationships and patterns buried in unstructured data. Watson Discovery leverages custom NLP models and machine learning methods to provide users with AI that understands the unique language of their industry and business. Explore Watson Discovery\n",
            "Watson Natural Language Understanding (NLU) - Analyze text in unstructured data formats including HTML, webpages, social media, and more. Increase your understanding of human language by leveraging this natural language tool kit to identify concepts, keywords, categories, semantics, and emotions, and to perform text classification, entity extraction, named entity recognition (NER), sentiment analysis, and summarization. Explore Watson Natural Language Understanding\n",
            "Watson Assistant - Improve the customer experience while reducing costs. Watson Assistant is an AI chatbot with an easy-to-use visual builder so you can deploy virtual agents across any channel, in minutes.  Explore Watson Assistant\n",
            "Purpose-built for healthcare and life sciences domains, IBM Watson Annotator for Clinical Data extracts key clinical concepts from natural language text, like conditions, medications, allergies and procedures. Deep contextual insights and values for key clinical attributes develop more meaningful data. Potential data sources include clinical notes, discharge summaries, clinical trial protocols and literature data.\n",
            "\n",
            "\n",
            "Neurology at Highland Hospital\n",
            "What is a Neurologist?\n",
            "Introduction to Neurology\n",
            "Neurology is the branch of medicine concerned with the study and treatment of disorders of the nervous system. The nervous system is a complex, sophisticated system that regulates and coordinates body activities. It has two major divisions:\n",
            "\n",
            "Central nervous system: the brain and spinal cord\n",
            "Peripheral nervous system: all other neural elements, such as eyes, ears, skin, and other \"sensory receptors\"\n",
            "A doctor who specializes in neurology is called a neurologist. The neurologist treats disorders that affect the brain, spinal cord, and nerves, such as:\n",
            "\n",
            "Cerebrovascular disease, such as stroke\n",
            "Demyelinating diseases of the central nervous system, such as multiple sclerosis\n",
            "Headache disorders\n",
            "Infections of the brain and peripheral nervous system\n",
            "Movement disorders, such as Parkinson's disease\n",
            "Neurodegenerative disorders, such as Alzheimer's disease, Parkinson's disease, and Amyotrophic Lateral Sclerosis (Lou Gehrig's disease)\n",
            "Seizure disorders, such as epilepsy\n",
            "Spinal cord disorders\n",
            "Speech and language disorders\n",
            "Neurologists do not perform surgery. If one of their patients requires surgery, they refer them to a neurosurgeon.\n",
            "\n",
            "Education to Become a Neurologist in the United States\n",
            "Four years of pre-medical education in a college or university\n",
            "Four years of medical school resulting in an M.D. or D.O. degree (doctor of medicine or doctor of osteopathy degree)\n",
            "One year internship in either internal medicine or medicine/surgery\n",
            "At least 3 years of specialty training in an accredited neurology residency program\n",
            "Many neurologists also have additional training or interest in one area of neurology, such as stroke, epilepsy, neuromuscular, sleep medicine, pain management, or movement disorders.\n"
          ]
        }
      ]
    },
    {
      "cell_type": "code",
      "source": [
        "print(text)"
      ],
      "metadata": {
        "colab": {
          "base_uri": "https://localhost:8080/"
        },
        "id": "I6jNg6e7XqSJ",
        "outputId": "978441c5-584c-4110-9e73-b8cea1ae8ec9"
      },
      "execution_count": null,
      "outputs": [
        {
          "output_type": "stream",
          "name": "stdout",
          "text": [
            "natural language processing (nlp)\n",
            "natural language processing strives to build machines that understand and respond to text or voice data—and respond with text or speech of their own—in much the same way humans do.\n",
            "what is natural language processing?\n",
            "natural language processing (nlp) refers to the branch of computer science—and more specifically, the branch of artificial intelligence or ai—concerned with giving computers the ability to understand text and spoken words in much the same way human beings can.\n",
            "\n",
            "nlp combines computational linguistics—rule-based modeling of human language—with statistical, machine learning, and deep learning models. together, these technologies enable computers to process human language in the form of text or voice data and to ‘understand’ its full meaning, complete with the speaker or writer’s intent and sentiment.\n",
            "\n",
            "nlp drives computer programs that translate text from one language to another, respond to spoken commands, and summarize large volumes of text rapidly—even in real time. there’s a good chance you’ve interacted with nlp in the form of voice-operated gps systems, digital assistants, speech-to-text dictation software, customer service chatbots, and other consumer conveniences. but nlp also plays a growing role in enterprise solutions that help streamline business operations, increase employee productivity, and simplify mission-critical business processes.\n",
            "\n",
            "nlp tasks\n",
            "human language is filled with ambiguities that make it incredibly difficult to write software that accurately determines the intended meaning of text or voice data. homonyms, homophones, sarcasm, idioms, metaphors, grammar and usage exceptions, variations in sentence structure—these just a few of the irregularities of human language that take humans years to learn, but that programmers must teach natural language-driven applications to recognize and understand accurately from the start, if those applications are going to be useful.\n",
            "\n",
            "several nlp tasks break down human text and voice data in ways that help the computer make sense of what it's ingesting. some of these tasks include the following:\n",
            "\n",
            "speech recognition, also called speech-to-text, is the task of reliably converting voice data into text data. speech recognition is required for any application that follows voice commands or answers spoken questions. what makes speech recognition especially challenging is the way people talk—quickly, slurring words together, with varying emphasis and intonation, in different accents, and often using incorrect grammar.\n",
            "part of speech tagging, also called grammatical tagging, is the process of determining the part of speech of a particular word or piece of text based on its use and context. part of speech identifies ‘make’ as a verb in ‘i can make a paper plane,’ and as a noun in ‘what make of car do you own?’\n",
            "word sense disambiguation is the selection of the meaning of a word with multiple meanings  through a process of semantic analysis that determine the word that makes the most sense in the given context. for example, word sense disambiguation helps distinguish the meaning of the verb 'make' in ‘make the grade’ (achieve) vs. ‘make a bet’ (place).\n",
            "named entity recognition, or nem, identifies words or phrases as useful entities. nem identifies ‘kentucky’ as a location or ‘fred’ as a man's name.\n",
            "co-reference resolution is the task of identifying if and when two words refer to the same entity. the most common example is determining the person or object to which a certain pronoun refers (e.g., ‘she’ = ‘mary’),  but it can also involve identifying a metaphor or an idiom in the text  (e.g., an instance in which 'bear' isn't an animal but a large hairy person).\n",
            "sentiment analysis attempts to extract subjective qualities—attitudes, emotions, sarcasm, confusion, suspicion—from text.\n",
            "natural language generation is sometimes described as the opposite of speech recognition or speech-to-text; it's the task of putting structured information into human language. \n",
            "see the blog post “nlp vs. nlu vs. nlg: the differences between three natural language processing concepts” for a deeper look into how these concepts relate.\n",
            "\n",
            "nlp tools and approaches\n",
            "python and the natural language toolkit (nltk)\n",
            "the python programing language provides a wide range of tools and libraries for attacking specific nlp tasks. many of these are found in the natural language toolkit, or nltk, an open source collection of libraries, programs, and education resources for building nlp programs.\n",
            "\n",
            "the nltk includes libraries for many of the nlp tasks listed above, plus libraries for subtasks, such as sentence parsing, word segmentation, stemming and lemmatization (methods of trimming words down to their roots), and tokenization (for breaking phrases, sentences, paragraphs and passages into tokens that help the computer better understand the text). it also includes libraries for implementing capabilities such as semantic reasoning, the ability to reach logical conclusions based on facts extracted from text.\n",
            "\n",
            "statistical nlp, machine learning, and deep learning\n",
            "the earliest nlp applications were hand-coded, rules-based systems that could perform certain nlp tasks, but couldn't easily scale to accommodate a seemingly endless stream of exceptions or the increasing volumes of text and voice data.\n",
            "\n",
            "enter statistical nlp, which combines computer algorithms with machine learning and deep learning models to automatically extract, classify, and label elements of text and voice data and then assign a statistical likelihood to each possible meaning of those elements. today, deep learning models and learning techniques based on convolutional neural networks (cnns) and recurrent neural networks (rnns) enable nlp systems that 'learn' as they work and extract ever more accurate meaning from huge volumes of raw, unstructured, and unlabeled text and voice data sets. \n",
            "\n",
            "for a deeper dive into the nuances between these technologies and their learning approaches, see “ai vs. machine learning vs. deep learning vs. neural networks: what’s the difference?”\n",
            "\n",
            "nlp use cases\n",
            "natural language processing is the driving force behind machine intelligence in many modern real-world applications. here are a few examples:\n",
            "\n",
            "spam detection: you may not think of spam detection as an nlp solution, but the best spam detection technologies use nlp's text classification capabilities to scan emails for language that often indicates spam or phishing. these indicators can include overuse of financial terms, characteristic bad grammar, threatening language, inappropriate urgency, misspelled company names, and more. spam detection is one of a handful of nlp problems that experts consider 'mostly solved' (although you may argue that this doesn’t match your email experience).\n",
            "machine translation: google translate is an example of widely available nlp technology at work. truly useful machine translation involves more than replacing words in one language with words of another.  effective translation has to capture accurately the meaning and tone of the input language and translate it to text with the same meaning and desired impact in the output language. machine translation tools are making good progress in terms of accuracy. a great way to test any machine translation tool is to translate text to one language and then back to the original. an oft-cited classic example: not long ago, translating “the spirit is willing but the flesh is weak” from english to russian and back yielded “the vodka is good but the meat is rotten.” today, the result is “the spirit desires, but the flesh is weak,” which isn’t perfect, but inspires much more confidence in the english-to-russian translation.\n",
            "virtual agents and chatbots: virtual agents such as apple's siri and amazon's alexa use speech recognition to recognize patterns in voice commands and natural language generation to respond with appropriate action or helpful comments. chatbots perform the same magic in response to typed text entries. the best of these also learn to recognize contextual clues about human requests and use them to provide even better responses or options over time. the next enhancement for these applications is question answering, the ability to respond to our questions—anticipated or not—with relevant and helpful answers in their own words.\n",
            "social media sentiment analysis: nlp has become an essential business tool for uncovering hidden data insights from social media channels. sentiment analysis can analyze language used in social media posts, responses, reviews, and more to extract attitudes and emotions in response to products, promotions, and events–information companies can use in product designs, advertising campaigns, and more.\n",
            "text summarization: text summarization uses nlp techniques to digest huge volumes of digital text and create summaries and synopses for indexes, research databases, or busy readers who don't have time to read full text. the best text summarization applications use semantic reasoning and natural language generation (nlg) to add useful context and conclusions to summaries.\n",
            "natural language processing and ibm watson\n",
            "ibm has innovated in the artificial intelligence space by pioneering nlp-driven tools and services that enable organizations to automate their complex business processes while gaining essential business insights. these tools include:\n",
            "watson discovery - surface high-quality answers and rich insights from your complex enterprise documents - tables, pdfs, big data and more - with ai search. enable your employees to make more informed decisions and save time with real-time search engine and text mining capabilities that perform text extraction and analyze relationships and patterns buried in unstructured data. watson discovery leverages custom nlp models and machine learning methods to provide users with ai that understands the unique language of their industry and business. explore watson discovery\n",
            "watson natural language understanding (nlu) - analyze text in unstructured data formats including html, webpages, social media, and more. increase your understanding of human language by leveraging this natural language tool kit to identify concepts, keywords, categories, semantics, and emotions, and to perform text classification, entity extraction, named entity recognition (ner), sentiment analysis, and summarization. explore watson natural language understanding\n",
            "watson assistant - improve the customer experience while reducing costs. watson assistant is an ai chatbot with an easy-to-use visual builder so you can deploy virtual agents across any channel, in minutes.  explore watson assistant\n",
            "purpose-built for healthcare and life sciences domains, ibm watson annotator for clinical data extracts key clinical concepts from natural language text, like conditions, medications, allergies and procedures. deep contextual insights and values for key clinical attributes develop more meaningful data. potential data sources include clinical notes, discharge summaries, clinical trial protocols and literature data.\n",
            "\n",
            "\n",
            "neurology at highland hospital\n",
            "what is a neurologist?\n",
            "introduction to neurology\n",
            "neurology is the branch of medicine concerned with the study and treatment of disorders of the nervous system. the nervous system is a complex, sophisticated system that regulates and coordinates body activities. it has two major divisions:\n",
            "\n",
            "central nervous system: the brain and spinal cord\n",
            "peripheral nervous system: all other neural elements, such as eyes, ears, skin, and other \"sensory receptors\"\n",
            "a doctor who specializes in neurology is called a neurologist. the neurologist treats disorders that affect the brain, spinal cord, and nerves, such as:\n",
            "\n",
            "cerebrovascular disease, such as stroke\n",
            "demyelinating diseases of the central nervous system, such as multiple sclerosis\n",
            "headache disorders\n",
            "infections of the brain and peripheral nervous system\n",
            "movement disorders, such as parkinson's disease\n",
            "neurodegenerative disorders, such as alzheimer's disease, parkinson's disease, and amyotrophic lateral sclerosis (lou gehrig's disease)\n",
            "seizure disorders, such as epilepsy\n",
            "spinal cord disorders\n",
            "speech and language disorders\n",
            "neurologists do not perform surgery. if one of their patients requires surgery, they refer them to a neurosurgeon.\n",
            "\n",
            "education to become a neurologist in the united states\n",
            "four years of pre-medical education in a college or university\n",
            "four years of medical school resulting in an m.d. or d.o. degree (doctor of medicine or doctor of osteopathy degree)\n",
            "one year internship in either internal medicine or medicine/surgery\n",
            "at least 3 years of specialty training in an accredited neurology residency program\n",
            "many neurologists also have additional training or interest in one area of neurology, such as stroke, epilepsy, neuromuscular, sleep medicine, pain management, or movement disorders.\n"
          ]
        }
      ]
    },
    {
      "cell_type": "code",
      "source": [
        "sent_tokens = nltk.sent_tokenize(text)\n",
        "print(sent_tokens)\n",
        "print(len(sent_tokens))"
      ],
      "metadata": {
        "colab": {
          "base_uri": "https://localhost:8080/"
        },
        "id": "vqNh9IIHX_Gg",
        "outputId": "80daef83-56ef-4871-db2a-bce409a1be88"
      },
      "execution_count": null,
      "outputs": [
        {
          "output_type": "stream",
          "name": "stdout",
          "text": [
            "['natural language processing (nlp)\\nnatural language processing strives to build machines that understand and respond to text or voice data—and respond with text or speech of their own—in much the same way humans do.', 'what is natural language processing?', 'natural language processing (nlp) refers to the branch of computer science—and more specifically, the branch of artificial intelligence or ai—concerned with giving computers the ability to understand text and spoken words in much the same way human beings can.', 'nlp combines computational linguistics—rule-based modeling of human language—with statistical, machine learning, and deep learning models.', 'together, these technologies enable computers to process human language in the form of text or voice data and to ‘understand’ its full meaning, complete with the speaker or writer’s intent and sentiment.', 'nlp drives computer programs that translate text from one language to another, respond to spoken commands, and summarize large volumes of text rapidly—even in real time.', 'there’s a good chance you’ve interacted with nlp in the form of voice-operated gps systems, digital assistants, speech-to-text dictation software, customer service chatbots, and other consumer conveniences.', 'but nlp also plays a growing role in enterprise solutions that help streamline business operations, increase employee productivity, and simplify mission-critical business processes.', 'nlp tasks\\nhuman language is filled with ambiguities that make it incredibly difficult to write software that accurately determines the intended meaning of text or voice data.', 'homonyms, homophones, sarcasm, idioms, metaphors, grammar and usage exceptions, variations in sentence structure—these just a few of the irregularities of human language that take humans years to learn, but that programmers must teach natural language-driven applications to recognize and understand accurately from the start, if those applications are going to be useful.', \"several nlp tasks break down human text and voice data in ways that help the computer make sense of what it's ingesting.\", 'some of these tasks include the following:\\n\\nspeech recognition, also called speech-to-text, is the task of reliably converting voice data into text data.', 'speech recognition is required for any application that follows voice commands or answers spoken questions.', 'what makes speech recognition especially challenging is the way people talk—quickly, slurring words together, with varying emphasis and intonation, in different accents, and often using incorrect grammar.', 'part of speech tagging, also called grammatical tagging, is the process of determining the part of speech of a particular word or piece of text based on its use and context.', 'part of speech identifies ‘make’ as a verb in ‘i can make a paper plane,’ and as a noun in ‘what make of car do you own?’\\nword sense disambiguation is the selection of the meaning of a word with multiple meanings  through a process of semantic analysis that determine the word that makes the most sense in the given context.', \"for example, word sense disambiguation helps distinguish the meaning of the verb 'make' in ‘make the grade’ (achieve) vs. ‘make a bet’ (place).\", 'named entity recognition, or nem, identifies words or phrases as useful entities.', \"nem identifies ‘kentucky’ as a location or ‘fred’ as a man's name.\", 'co-reference resolution is the task of identifying if and when two words refer to the same entity.', \"the most common example is determining the person or object to which a certain pronoun refers (e.g., ‘she’ = ‘mary’),  but it can also involve identifying a metaphor or an idiom in the text  (e.g., an instance in which 'bear' isn't an animal but a large hairy person).\", 'sentiment analysis attempts to extract subjective qualities—attitudes, emotions, sarcasm, confusion, suspicion—from text.', \"natural language generation is sometimes described as the opposite of speech recognition or speech-to-text; it's the task of putting structured information into human language.\", 'see the blog post “nlp vs. nlu vs. nlg: the differences between three natural language processing concepts” for a deeper look into how these concepts relate.', 'nlp tools and approaches\\npython and the natural language toolkit (nltk)\\nthe python programing language provides a wide range of tools and libraries for attacking specific nlp tasks.', 'many of these are found in the natural language toolkit, or nltk, an open source collection of libraries, programs, and education resources for building nlp programs.', 'the nltk includes libraries for many of the nlp tasks listed above, plus libraries for subtasks, such as sentence parsing, word segmentation, stemming and lemmatization (methods of trimming words down to their roots), and tokenization (for breaking phrases, sentences, paragraphs and passages into tokens that help the computer better understand the text).', 'it also includes libraries for implementing capabilities such as semantic reasoning, the ability to reach logical conclusions based on facts extracted from text.', \"statistical nlp, machine learning, and deep learning\\nthe earliest nlp applications were hand-coded, rules-based systems that could perform certain nlp tasks, but couldn't easily scale to accommodate a seemingly endless stream of exceptions or the increasing volumes of text and voice data.\", 'enter statistical nlp, which combines computer algorithms with machine learning and deep learning models to automatically extract, classify, and label elements of text and voice data and then assign a statistical likelihood to each possible meaning of those elements.', \"today, deep learning models and learning techniques based on convolutional neural networks (cnns) and recurrent neural networks (rnns) enable nlp systems that 'learn' as they work and extract ever more accurate meaning from huge volumes of raw, unstructured, and unlabeled text and voice data sets.\", 'for a deeper dive into the nuances between these technologies and their learning approaches, see “ai vs. machine learning vs. deep learning vs. neural networks: what’s the difference?”\\n\\nnlp use cases\\nnatural language processing is the driving force behind machine intelligence in many modern real-world applications.', \"here are a few examples:\\n\\nspam detection: you may not think of spam detection as an nlp solution, but the best spam detection technologies use nlp's text classification capabilities to scan emails for language that often indicates spam or phishing.\", 'these indicators can include overuse of financial terms, characteristic bad grammar, threatening language, inappropriate urgency, misspelled company names, and more.', \"spam detection is one of a handful of nlp problems that experts consider 'mostly solved' (although you may argue that this doesn’t match your email experience).\", 'machine translation: google translate is an example of widely available nlp technology at work.', 'truly useful machine translation involves more than replacing words in one language with words of another.', 'effective translation has to capture accurately the meaning and tone of the input language and translate it to text with the same meaning and desired impact in the output language.', 'machine translation tools are making good progress in terms of accuracy.', 'a great way to test any machine translation tool is to translate text to one language and then back to the original.', 'an oft-cited classic example: not long ago, translating “the spirit is willing but the flesh is weak” from english to russian and back yielded “the vodka is good but the meat is rotten.” today, the result is “the spirit desires, but the flesh is weak,” which isn’t perfect, but inspires much more confidence in the english-to-russian translation.', \"virtual agents and chatbots: virtual agents such as apple's siri and amazon's alexa use speech recognition to recognize patterns in voice commands and natural language generation to respond with appropriate action or helpful comments.\", 'chatbots perform the same magic in response to typed text entries.', 'the best of these also learn to recognize contextual clues about human requests and use them to provide even better responses or options over time.', 'the next enhancement for these applications is question answering, the ability to respond to our questions—anticipated or not—with relevant and helpful answers in their own words.', 'social media sentiment analysis: nlp has become an essential business tool for uncovering hidden data insights from social media channels.', 'sentiment analysis can analyze language used in social media posts, responses, reviews, and more to extract attitudes and emotions in response to products, promotions, and events–information companies can use in product designs, advertising campaigns, and more.', \"text summarization: text summarization uses nlp techniques to digest huge volumes of digital text and create summaries and synopses for indexes, research databases, or busy readers who don't have time to read full text.\", 'the best text summarization applications use semantic reasoning and natural language generation (nlg) to add useful context and conclusions to summaries.', 'natural language processing and ibm watson\\nibm has innovated in the artificial intelligence space by pioneering nlp-driven tools and services that enable organizations to automate their complex business processes while gaining essential business insights.', 'these tools include:\\nwatson discovery - surface high-quality answers and rich insights from your complex enterprise documents - tables, pdfs, big data and more - with ai search.', 'enable your employees to make more informed decisions and save time with real-time search engine and text mining capabilities that perform text extraction and analyze relationships and patterns buried in unstructured data.', 'watson discovery leverages custom nlp models and machine learning methods to provide users with ai that understands the unique language of their industry and business.', 'explore watson discovery\\nwatson natural language understanding (nlu) - analyze text in unstructured data formats including html, webpages, social media, and more.', 'increase your understanding of human language by leveraging this natural language tool kit to identify concepts, keywords, categories, semantics, and emotions, and to perform text classification, entity extraction, named entity recognition (ner), sentiment analysis, and summarization.', 'explore watson natural language understanding\\nwatson assistant - improve the customer experience while reducing costs.', 'watson assistant is an ai chatbot with an easy-to-use visual builder so you can deploy virtual agents across any channel, in minutes.', 'explore watson assistant\\npurpose-built for healthcare and life sciences domains, ibm watson annotator for clinical data extracts key clinical concepts from natural language text, like conditions, medications, allergies and procedures.', 'deep contextual insights and values for key clinical attributes develop more meaningful data.', 'potential data sources include clinical notes, discharge summaries, clinical trial protocols and literature data.', 'neurology at highland hospital\\nwhat is a neurologist?', 'introduction to neurology\\nneurology is the branch of medicine concerned with the study and treatment of disorders of the nervous system.', 'the nervous system is a complex, sophisticated system that regulates and coordinates body activities.', 'it has two major divisions:\\n\\ncentral nervous system: the brain and spinal cord\\nperipheral nervous system: all other neural elements, such as eyes, ears, skin, and other \"sensory receptors\"\\na doctor who specializes in neurology is called a neurologist.', \"the neurologist treats disorders that affect the brain, spinal cord, and nerves, such as:\\n\\ncerebrovascular disease, such as stroke\\ndemyelinating diseases of the central nervous system, such as multiple sclerosis\\nheadache disorders\\ninfections of the brain and peripheral nervous system\\nmovement disorders, such as parkinson's disease\\nneurodegenerative disorders, such as alzheimer's disease, parkinson's disease, and amyotrophic lateral sclerosis (lou gehrig's disease)\\nseizure disorders, such as epilepsy\\nspinal cord disorders\\nspeech and language disorders\\nneurologists do not perform surgery.\", 'if one of their patients requires surgery, they refer them to a neurosurgeon.', 'education to become a neurologist in the united states\\nfour years of pre-medical education in a college or university\\nfour years of medical school resulting in an m.d.', 'or d.o.', 'degree (doctor of medicine or doctor of osteopathy degree)\\none year internship in either internal medicine or medicine/surgery\\nat least 3 years of specialty training in an accredited neurology residency program\\nmany neurologists also have additional training or interest in one area of neurology, such as stroke, epilepsy, neuromuscular, sleep medicine, pain management, or movement disorders.']\n",
            "69\n"
          ]
        }
      ]
    },
    {
      "cell_type": "code",
      "source": [
        "\n",
        "word_tokens = nltk.word_tokenize(text)\n",
        "print(word_tokens)"
      ],
      "metadata": {
        "colab": {
          "base_uri": "https://localhost:8080/"
        },
        "id": "jjplv0ySDABu",
        "outputId": "3d7691a8-f150-4a5b-e8eb-8be52246425f"
      },
      "execution_count": null,
      "outputs": [
        {
          "output_type": "stream",
          "name": "stdout",
          "text": [
            "['natural', 'language', 'processing', '(', 'nlp', ')', 'natural', 'language', 'processing', 'strives', 'to', 'build', 'machines', 'that', 'understand', 'and', 'respond', 'to', 'text', 'or', 'voice', 'data—and', 'respond', 'with', 'text', 'or', 'speech', 'of', 'their', 'own—in', 'much', 'the', 'same', 'way', 'humans', 'do', '.', 'what', 'is', 'natural', 'language', 'processing', '?', 'natural', 'language', 'processing', '(', 'nlp', ')', 'refers', 'to', 'the', 'branch', 'of', 'computer', 'science—and', 'more', 'specifically', ',', 'the', 'branch', 'of', 'artificial', 'intelligence', 'or', 'ai—concerned', 'with', 'giving', 'computers', 'the', 'ability', 'to', 'understand', 'text', 'and', 'spoken', 'words', 'in', 'much', 'the', 'same', 'way', 'human', 'beings', 'can', '.', 'nlp', 'combines', 'computational', 'linguistics—rule-based', 'modeling', 'of', 'human', 'language—with', 'statistical', ',', 'machine', 'learning', ',', 'and', 'deep', 'learning', 'models', '.', 'together', ',', 'these', 'technologies', 'enable', 'computers', 'to', 'process', 'human', 'language', 'in', 'the', 'form', 'of', 'text', 'or', 'voice', 'data', 'and', 'to', '‘', 'understand', '’', 'its', 'full', 'meaning', ',', 'complete', 'with', 'the', 'speaker', 'or', 'writer', '’', 's', 'intent', 'and', 'sentiment', '.', 'nlp', 'drives', 'computer', 'programs', 'that', 'translate', 'text', 'from', 'one', 'language', 'to', 'another', ',', 'respond', 'to', 'spoken', 'commands', ',', 'and', 'summarize', 'large', 'volumes', 'of', 'text', 'rapidly—even', 'in', 'real', 'time', '.', 'there', '’', 's', 'a', 'good', 'chance', 'you', '’', 've', 'interacted', 'with', 'nlp', 'in', 'the', 'form', 'of', 'voice-operated', 'gps', 'systems', ',', 'digital', 'assistants', ',', 'speech-to-text', 'dictation', 'software', ',', 'customer', 'service', 'chatbots', ',', 'and', 'other', 'consumer', 'conveniences', '.', 'but', 'nlp', 'also', 'plays', 'a', 'growing', 'role', 'in', 'enterprise', 'solutions', 'that', 'help', 'streamline', 'business', 'operations', ',', 'increase', 'employee', 'productivity', ',', 'and', 'simplify', 'mission-critical', 'business', 'processes', '.', 'nlp', 'tasks', 'human', 'language', 'is', 'filled', 'with', 'ambiguities', 'that', 'make', 'it', 'incredibly', 'difficult', 'to', 'write', 'software', 'that', 'accurately', 'determines', 'the', 'intended', 'meaning', 'of', 'text', 'or', 'voice', 'data', '.', 'homonyms', ',', 'homophones', ',', 'sarcasm', ',', 'idioms', ',', 'metaphors', ',', 'grammar', 'and', 'usage', 'exceptions', ',', 'variations', 'in', 'sentence', 'structure—these', 'just', 'a', 'few', 'of', 'the', 'irregularities', 'of', 'human', 'language', 'that', 'take', 'humans', 'years', 'to', 'learn', ',', 'but', 'that', 'programmers', 'must', 'teach', 'natural', 'language-driven', 'applications', 'to', 'recognize', 'and', 'understand', 'accurately', 'from', 'the', 'start', ',', 'if', 'those', 'applications', 'are', 'going', 'to', 'be', 'useful', '.', 'several', 'nlp', 'tasks', 'break', 'down', 'human', 'text', 'and', 'voice', 'data', 'in', 'ways', 'that', 'help', 'the', 'computer', 'make', 'sense', 'of', 'what', 'it', \"'s\", 'ingesting', '.', 'some', 'of', 'these', 'tasks', 'include', 'the', 'following', ':', 'speech', 'recognition', ',', 'also', 'called', 'speech-to-text', ',', 'is', 'the', 'task', 'of', 'reliably', 'converting', 'voice', 'data', 'into', 'text', 'data', '.', 'speech', 'recognition', 'is', 'required', 'for', 'any', 'application', 'that', 'follows', 'voice', 'commands', 'or', 'answers', 'spoken', 'questions', '.', 'what', 'makes', 'speech', 'recognition', 'especially', 'challenging', 'is', 'the', 'way', 'people', 'talk—quickly', ',', 'slurring', 'words', 'together', ',', 'with', 'varying', 'emphasis', 'and', 'intonation', ',', 'in', 'different', 'accents', ',', 'and', 'often', 'using', 'incorrect', 'grammar', '.', 'part', 'of', 'speech', 'tagging', ',', 'also', 'called', 'grammatical', 'tagging', ',', 'is', 'the', 'process', 'of', 'determining', 'the', 'part', 'of', 'speech', 'of', 'a', 'particular', 'word', 'or', 'piece', 'of', 'text', 'based', 'on', 'its', 'use', 'and', 'context', '.', 'part', 'of', 'speech', 'identifies', '‘', 'make', '’', 'as', 'a', 'verb', 'in', '‘', 'i', 'can', 'make', 'a', 'paper', 'plane', ',', '’', 'and', 'as', 'a', 'noun', 'in', '‘', 'what', 'make', 'of', 'car', 'do', 'you', 'own', '?', '’', 'word', 'sense', 'disambiguation', 'is', 'the', 'selection', 'of', 'the', 'meaning', 'of', 'a', 'word', 'with', 'multiple', 'meanings', 'through', 'a', 'process', 'of', 'semantic', 'analysis', 'that', 'determine', 'the', 'word', 'that', 'makes', 'the', 'most', 'sense', 'in', 'the', 'given', 'context', '.', 'for', 'example', ',', 'word', 'sense', 'disambiguation', 'helps', 'distinguish', 'the', 'meaning', 'of', 'the', 'verb', \"'make\", \"'\", 'in', '‘', 'make', 'the', 'grade', '’', '(', 'achieve', ')', 'vs.', '‘', 'make', 'a', 'bet', '’', '(', 'place', ')', '.', 'named', 'entity', 'recognition', ',', 'or', 'nem', ',', 'identifies', 'words', 'or', 'phrases', 'as', 'useful', 'entities', '.', 'nem', 'identifies', '‘', 'kentucky', '’', 'as', 'a', 'location', 'or', '‘', 'fred', '’', 'as', 'a', 'man', \"'s\", 'name', '.', 'co-reference', 'resolution', 'is', 'the', 'task', 'of', 'identifying', 'if', 'and', 'when', 'two', 'words', 'refer', 'to', 'the', 'same', 'entity', '.', 'the', 'most', 'common', 'example', 'is', 'determining', 'the', 'person', 'or', 'object', 'to', 'which', 'a', 'certain', 'pronoun', 'refers', '(', 'e.g.', ',', '‘', 'she', '’', '=', '‘', 'mary', '’', ')', ',', 'but', 'it', 'can', 'also', 'involve', 'identifying', 'a', 'metaphor', 'or', 'an', 'idiom', 'in', 'the', 'text', '(', 'e.g.', ',', 'an', 'instance', 'in', 'which', \"'bear\", \"'\", 'is', \"n't\", 'an', 'animal', 'but', 'a', 'large', 'hairy', 'person', ')', '.', 'sentiment', 'analysis', 'attempts', 'to', 'extract', 'subjective', 'qualities—attitudes', ',', 'emotions', ',', 'sarcasm', ',', 'confusion', ',', 'suspicion—from', 'text', '.', 'natural', 'language', 'generation', 'is', 'sometimes', 'described', 'as', 'the', 'opposite', 'of', 'speech', 'recognition', 'or', 'speech-to-text', ';', 'it', \"'s\", 'the', 'task', 'of', 'putting', 'structured', 'information', 'into', 'human', 'language', '.', 'see', 'the', 'blog', 'post', '“', 'nlp', 'vs.', 'nlu', 'vs.', 'nlg', ':', 'the', 'differences', 'between', 'three', 'natural', 'language', 'processing', 'concepts', '”', 'for', 'a', 'deeper', 'look', 'into', 'how', 'these', 'concepts', 'relate', '.', 'nlp', 'tools', 'and', 'approaches', 'python', 'and', 'the', 'natural', 'language', 'toolkit', '(', 'nltk', ')', 'the', 'python', 'programing', 'language', 'provides', 'a', 'wide', 'range', 'of', 'tools', 'and', 'libraries', 'for', 'attacking', 'specific', 'nlp', 'tasks', '.', 'many', 'of', 'these', 'are', 'found', 'in', 'the', 'natural', 'language', 'toolkit', ',', 'or', 'nltk', ',', 'an', 'open', 'source', 'collection', 'of', 'libraries', ',', 'programs', ',', 'and', 'education', 'resources', 'for', 'building', 'nlp', 'programs', '.', 'the', 'nltk', 'includes', 'libraries', 'for', 'many', 'of', 'the', 'nlp', 'tasks', 'listed', 'above', ',', 'plus', 'libraries', 'for', 'subtasks', ',', 'such', 'as', 'sentence', 'parsing', ',', 'word', 'segmentation', ',', 'stemming', 'and', 'lemmatization', '(', 'methods', 'of', 'trimming', 'words', 'down', 'to', 'their', 'roots', ')', ',', 'and', 'tokenization', '(', 'for', 'breaking', 'phrases', ',', 'sentences', ',', 'paragraphs', 'and', 'passages', 'into', 'tokens', 'that', 'help', 'the', 'computer', 'better', 'understand', 'the', 'text', ')', '.', 'it', 'also', 'includes', 'libraries', 'for', 'implementing', 'capabilities', 'such', 'as', 'semantic', 'reasoning', ',', 'the', 'ability', 'to', 'reach', 'logical', 'conclusions', 'based', 'on', 'facts', 'extracted', 'from', 'text', '.', 'statistical', 'nlp', ',', 'machine', 'learning', ',', 'and', 'deep', 'learning', 'the', 'earliest', 'nlp', 'applications', 'were', 'hand-coded', ',', 'rules-based', 'systems', 'that', 'could', 'perform', 'certain', 'nlp', 'tasks', ',', 'but', 'could', \"n't\", 'easily', 'scale', 'to', 'accommodate', 'a', 'seemingly', 'endless', 'stream', 'of', 'exceptions', 'or', 'the', 'increasing', 'volumes', 'of', 'text', 'and', 'voice', 'data', '.', 'enter', 'statistical', 'nlp', ',', 'which', 'combines', 'computer', 'algorithms', 'with', 'machine', 'learning', 'and', 'deep', 'learning', 'models', 'to', 'automatically', 'extract', ',', 'classify', ',', 'and', 'label', 'elements', 'of', 'text', 'and', 'voice', 'data', 'and', 'then', 'assign', 'a', 'statistical', 'likelihood', 'to', 'each', 'possible', 'meaning', 'of', 'those', 'elements', '.', 'today', ',', 'deep', 'learning', 'models', 'and', 'learning', 'techniques', 'based', 'on', 'convolutional', 'neural', 'networks', '(', 'cnns', ')', 'and', 'recurrent', 'neural', 'networks', '(', 'rnns', ')', 'enable', 'nlp', 'systems', 'that', \"'learn\", \"'\", 'as', 'they', 'work', 'and', 'extract', 'ever', 'more', 'accurate', 'meaning', 'from', 'huge', 'volumes', 'of', 'raw', ',', 'unstructured', ',', 'and', 'unlabeled', 'text', 'and', 'voice', 'data', 'sets', '.', 'for', 'a', 'deeper', 'dive', 'into', 'the', 'nuances', 'between', 'these', 'technologies', 'and', 'their', 'learning', 'approaches', ',', 'see', '“', 'ai', 'vs.', 'machine', 'learning', 'vs.', 'deep', 'learning', 'vs.', 'neural', 'networks', ':', 'what', '’', 's', 'the', 'difference', '?', '”', 'nlp', 'use', 'cases', 'natural', 'language', 'processing', 'is', 'the', 'driving', 'force', 'behind', 'machine', 'intelligence', 'in', 'many', 'modern', 'real-world', 'applications', '.', 'here', 'are', 'a', 'few', 'examples', ':', 'spam', 'detection', ':', 'you', 'may', 'not', 'think', 'of', 'spam', 'detection', 'as', 'an', 'nlp', 'solution', ',', 'but', 'the', 'best', 'spam', 'detection', 'technologies', 'use', 'nlp', \"'s\", 'text', 'classification', 'capabilities', 'to', 'scan', 'emails', 'for', 'language', 'that', 'often', 'indicates', 'spam', 'or', 'phishing', '.', 'these', 'indicators', 'can', 'include', 'overuse', 'of', 'financial', 'terms', ',', 'characteristic', 'bad', 'grammar', ',', 'threatening', 'language', ',', 'inappropriate', 'urgency', ',', 'misspelled', 'company', 'names', ',', 'and', 'more', '.', 'spam', 'detection', 'is', 'one', 'of', 'a', 'handful', 'of', 'nlp', 'problems', 'that', 'experts', 'consider', \"'mostly\", 'solved', \"'\", '(', 'although', 'you', 'may', 'argue', 'that', 'this', 'doesn', '’', 't', 'match', 'your', 'email', 'experience', ')', '.', 'machine', 'translation', ':', 'google', 'translate', 'is', 'an', 'example', 'of', 'widely', 'available', 'nlp', 'technology', 'at', 'work', '.', 'truly', 'useful', 'machine', 'translation', 'involves', 'more', 'than', 'replacing', 'words', 'in', 'one', 'language', 'with', 'words', 'of', 'another', '.', 'effective', 'translation', 'has', 'to', 'capture', 'accurately', 'the', 'meaning', 'and', 'tone', 'of', 'the', 'input', 'language', 'and', 'translate', 'it', 'to', 'text', 'with', 'the', 'same', 'meaning', 'and', 'desired', 'impact', 'in', 'the', 'output', 'language', '.', 'machine', 'translation', 'tools', 'are', 'making', 'good', 'progress', 'in', 'terms', 'of', 'accuracy', '.', 'a', 'great', 'way', 'to', 'test', 'any', 'machine', 'translation', 'tool', 'is', 'to', 'translate', 'text', 'to', 'one', 'language', 'and', 'then', 'back', 'to', 'the', 'original', '.', 'an', 'oft-cited', 'classic', 'example', ':', 'not', 'long', 'ago', ',', 'translating', '“', 'the', 'spirit', 'is', 'willing', 'but', 'the', 'flesh', 'is', 'weak', '”', 'from', 'english', 'to', 'russian', 'and', 'back', 'yielded', '“', 'the', 'vodka', 'is', 'good', 'but', 'the', 'meat', 'is', 'rotten.', '”', 'today', ',', 'the', 'result', 'is', '“', 'the', 'spirit', 'desires', ',', 'but', 'the', 'flesh', 'is', 'weak', ',', '”', 'which', 'isn', '’', 't', 'perfect', ',', 'but', 'inspires', 'much', 'more', 'confidence', 'in', 'the', 'english-to-russian', 'translation', '.', 'virtual', 'agents', 'and', 'chatbots', ':', 'virtual', 'agents', 'such', 'as', 'apple', \"'s\", 'siri', 'and', 'amazon', \"'s\", 'alexa', 'use', 'speech', 'recognition', 'to', 'recognize', 'patterns', 'in', 'voice', 'commands', 'and', 'natural', 'language', 'generation', 'to', 'respond', 'with', 'appropriate', 'action', 'or', 'helpful', 'comments', '.', 'chatbots', 'perform', 'the', 'same', 'magic', 'in', 'response', 'to', 'typed', 'text', 'entries', '.', 'the', 'best', 'of', 'these', 'also', 'learn', 'to', 'recognize', 'contextual', 'clues', 'about', 'human', 'requests', 'and', 'use', 'them', 'to', 'provide', 'even', 'better', 'responses', 'or', 'options', 'over', 'time', '.', 'the', 'next', 'enhancement', 'for', 'these', 'applications', 'is', 'question', 'answering', ',', 'the', 'ability', 'to', 'respond', 'to', 'our', 'questions—anticipated', 'or', 'not—with', 'relevant', 'and', 'helpful', 'answers', 'in', 'their', 'own', 'words', '.', 'social', 'media', 'sentiment', 'analysis', ':', 'nlp', 'has', 'become', 'an', 'essential', 'business', 'tool', 'for', 'uncovering', 'hidden', 'data', 'insights', 'from', 'social', 'media', 'channels', '.', 'sentiment', 'analysis', 'can', 'analyze', 'language', 'used', 'in', 'social', 'media', 'posts', ',', 'responses', ',', 'reviews', ',', 'and', 'more', 'to', 'extract', 'attitudes', 'and', 'emotions', 'in', 'response', 'to', 'products', ',', 'promotions', ',', 'and', 'events–information', 'companies', 'can', 'use', 'in', 'product', 'designs', ',', 'advertising', 'campaigns', ',', 'and', 'more', '.', 'text', 'summarization', ':', 'text', 'summarization', 'uses', 'nlp', 'techniques', 'to', 'digest', 'huge', 'volumes', 'of', 'digital', 'text', 'and', 'create', 'summaries', 'and', 'synopses', 'for', 'indexes', ',', 'research', 'databases', ',', 'or', 'busy', 'readers', 'who', 'do', \"n't\", 'have', 'time', 'to', 'read', 'full', 'text', '.', 'the', 'best', 'text', 'summarization', 'applications', 'use', 'semantic', 'reasoning', 'and', 'natural', 'language', 'generation', '(', 'nlg', ')', 'to', 'add', 'useful', 'context', 'and', 'conclusions', 'to', 'summaries', '.', 'natural', 'language', 'processing', 'and', 'ibm', 'watson', 'ibm', 'has', 'innovated', 'in', 'the', 'artificial', 'intelligence', 'space', 'by', 'pioneering', 'nlp-driven', 'tools', 'and', 'services', 'that', 'enable', 'organizations', 'to', 'automate', 'their', 'complex', 'business', 'processes', 'while', 'gaining', 'essential', 'business', 'insights', '.', 'these', 'tools', 'include', ':', 'watson', 'discovery', '-', 'surface', 'high-quality', 'answers', 'and', 'rich', 'insights', 'from', 'your', 'complex', 'enterprise', 'documents', '-', 'tables', ',', 'pdfs', ',', 'big', 'data', 'and', 'more', '-', 'with', 'ai', 'search', '.', 'enable', 'your', 'employees', 'to', 'make', 'more', 'informed', 'decisions', 'and', 'save', 'time', 'with', 'real-time', 'search', 'engine', 'and', 'text', 'mining', 'capabilities', 'that', 'perform', 'text', 'extraction', 'and', 'analyze', 'relationships', 'and', 'patterns', 'buried', 'in', 'unstructured', 'data', '.', 'watson', 'discovery', 'leverages', 'custom', 'nlp', 'models', 'and', 'machine', 'learning', 'methods', 'to', 'provide', 'users', 'with', 'ai', 'that', 'understands', 'the', 'unique', 'language', 'of', 'their', 'industry', 'and', 'business', '.', 'explore', 'watson', 'discovery', 'watson', 'natural', 'language', 'understanding', '(', 'nlu', ')', '-', 'analyze', 'text', 'in', 'unstructured', 'data', 'formats', 'including', 'html', ',', 'webpages', ',', 'social', 'media', ',', 'and', 'more', '.', 'increase', 'your', 'understanding', 'of', 'human', 'language', 'by', 'leveraging', 'this', 'natural', 'language', 'tool', 'kit', 'to', 'identify', 'concepts', ',', 'keywords', ',', 'categories', ',', 'semantics', ',', 'and', 'emotions', ',', 'and', 'to', 'perform', 'text', 'classification', ',', 'entity', 'extraction', ',', 'named', 'entity', 'recognition', '(', 'ner', ')', ',', 'sentiment', 'analysis', ',', 'and', 'summarization', '.', 'explore', 'watson', 'natural', 'language', 'understanding', 'watson', 'assistant', '-', 'improve', 'the', 'customer', 'experience', 'while', 'reducing', 'costs', '.', 'watson', 'assistant', 'is', 'an', 'ai', 'chatbot', 'with', 'an', 'easy-to-use', 'visual', 'builder', 'so', 'you', 'can', 'deploy', 'virtual', 'agents', 'across', 'any', 'channel', ',', 'in', 'minutes', '.', 'explore', 'watson', 'assistant', 'purpose-built', 'for', 'healthcare', 'and', 'life', 'sciences', 'domains', ',', 'ibm', 'watson', 'annotator', 'for', 'clinical', 'data', 'extracts', 'key', 'clinical', 'concepts', 'from', 'natural', 'language', 'text', ',', 'like', 'conditions', ',', 'medications', ',', 'allergies', 'and', 'procedures', '.', 'deep', 'contextual', 'insights', 'and', 'values', 'for', 'key', 'clinical', 'attributes', 'develop', 'more', 'meaningful', 'data', '.', 'potential', 'data', 'sources', 'include', 'clinical', 'notes', ',', 'discharge', 'summaries', ',', 'clinical', 'trial', 'protocols', 'and', 'literature', 'data', '.', 'neurology', 'at', 'highland', 'hospital', 'what', 'is', 'a', 'neurologist', '?', 'introduction', 'to', 'neurology', 'neurology', 'is', 'the', 'branch', 'of', 'medicine', 'concerned', 'with', 'the', 'study', 'and', 'treatment', 'of', 'disorders', 'of', 'the', 'nervous', 'system', '.', 'the', 'nervous', 'system', 'is', 'a', 'complex', ',', 'sophisticated', 'system', 'that', 'regulates', 'and', 'coordinates', 'body', 'activities', '.', 'it', 'has', 'two', 'major', 'divisions', ':', 'central', 'nervous', 'system', ':', 'the', 'brain', 'and', 'spinal', 'cord', 'peripheral', 'nervous', 'system', ':', 'all', 'other', 'neural', 'elements', ',', 'such', 'as', 'eyes', ',', 'ears', ',', 'skin', ',', 'and', 'other', '``', 'sensory', 'receptors', \"''\", 'a', 'doctor', 'who', 'specializes', 'in', 'neurology', 'is', 'called', 'a', 'neurologist', '.', 'the', 'neurologist', 'treats', 'disorders', 'that', 'affect', 'the', 'brain', ',', 'spinal', 'cord', ',', 'and', 'nerves', ',', 'such', 'as', ':', 'cerebrovascular', 'disease', ',', 'such', 'as', 'stroke', 'demyelinating', 'diseases', 'of', 'the', 'central', 'nervous', 'system', ',', 'such', 'as', 'multiple', 'sclerosis', 'headache', 'disorders', 'infections', 'of', 'the', 'brain', 'and', 'peripheral', 'nervous', 'system', 'movement', 'disorders', ',', 'such', 'as', 'parkinson', \"'s\", 'disease', 'neurodegenerative', 'disorders', ',', 'such', 'as', 'alzheimer', \"'s\", 'disease', ',', 'parkinson', \"'s\", 'disease', ',', 'and', 'amyotrophic', 'lateral', 'sclerosis', '(', 'lou', 'gehrig', \"'s\", 'disease', ')', 'seizure', 'disorders', ',', 'such', 'as', 'epilepsy', 'spinal', 'cord', 'disorders', 'speech', 'and', 'language', 'disorders', 'neurologists', 'do', 'not', 'perform', 'surgery', '.', 'if', 'one', 'of', 'their', 'patients', 'requires', 'surgery', ',', 'they', 'refer', 'them', 'to', 'a', 'neurosurgeon', '.', 'education', 'to', 'become', 'a', 'neurologist', 'in', 'the', 'united', 'states', 'four', 'years', 'of', 'pre-medical', 'education', 'in', 'a', 'college', 'or', 'university', 'four', 'years', 'of', 'medical', 'school', 'resulting', 'in', 'an', 'm.d', '.', 'or', 'd.o', '.', 'degree', '(', 'doctor', 'of', 'medicine', 'or', 'doctor', 'of', 'osteopathy', 'degree', ')', 'one', 'year', 'internship', 'in', 'either', 'internal', 'medicine', 'or', 'medicine/surgery', 'at', 'least', '3', 'years', 'of', 'specialty', 'training', 'in', 'an', 'accredited', 'neurology', 'residency', 'program', 'many', 'neurologists', 'also', 'have', 'additional', 'training', 'or', 'interest', 'in', 'one', 'area', 'of', 'neurology', ',', 'such', 'as', 'stroke', ',', 'epilepsy', ',', 'neuromuscular', ',', 'sleep', 'medicine', ',', 'pain', 'management', ',', 'or', 'movement', 'disorders', '.']\n"
          ]
        }
      ]
    },
    {
      "cell_type": "code",
      "source": [
        "lemma = nltk.stem.WordNetLemmatizer()\n",
        "def LemToken(tokens):\n",
        "  return [lemma.lemmatize(token) for token in tokens]\n",
        "\n",
        "remove_puct = dict((ord(punct),None) for punct in string.punctuation)\n",
        "\n",
        "\n",
        "def lemnormalize(text):\n",
        "  return LemToken(nltk.word_tokenize(text.lower().translate(remove_puct)))"
      ],
      "metadata": {
        "id": "gJdyzUs7DXqY"
      },
      "execution_count": null,
      "outputs": []
    },
    {
      "cell_type": "code",
      "source": [
        "greetings_inputs = ('hello','hi','greetings','sup',\"what's up\",\"hey\",\"hi good day\", )\n",
        "\n",
        "greeting_response = [\"hi\",\"hey\",\"hi there\", 'Hello',\"Hi welcome to the NLP \"]\n",
        "\n",
        "def greeting(sent):\n",
        "  for word in sent.split():\n",
        "    if word.lower() in greetings_inputs:\n",
        "      return random.choice(greeting_response)\n"
      ],
      "metadata": {
        "id": "m6eW_kztEi_O"
      },
      "execution_count": null,
      "outputs": []
    },
    {
      "cell_type": "code",
      "source": [
        "from nltk.tokenize import sent_tokenize\n",
        "def response(user_response):\n",
        "  bot_response = ''\n",
        "  sent_tokens.append(user_response)\n",
        "  word_vec = TfidfVectorizer(tokenizer=lemnormalize,stop_words='english')\n",
        "  word_vec1 = word_vec.fit_transform(sent_tokens)\n",
        "  vals = cosine_similarity(word_vec1[-1],word_vec1)\n",
        "  idx = vals.argsort()[0][-2]\n",
        "  flat = vals.flatten()\n",
        "  flat.sort()\n",
        "  req_word_vec = flat[-2]\n",
        "  if req_word_vec == 0:\n",
        "    bot_response = bot_response + \"I am sorry , I dont understand you\"\n",
        "    return bot_response\n",
        "  else:\n",
        "    bot_response = bot_response+sent_tokens[idx]\n",
        "    return bot_response\n"
      ],
      "metadata": {
        "id": "mNSa5S23FlrY"
      },
      "execution_count": null,
      "outputs": []
    },
    {
      "cell_type": "code",
      "source": [
        "flag = True\n",
        "print(\"Remo: My name is Remo. I will answer your questions about NLP. if you want to exit , type Quit,bye,exit\") \n",
        "\n",
        "while (flag == True):\n",
        "  user_response = input()\n",
        "  user_response = user_response.lower()\n",
        "  #list_ = ['quit','bye','exit']\n",
        "  if  (user_response != \"exit\"):\n",
        "    print('true')\n",
        "    if (user_response == 'thanks' or user_response == 'thank you'):\n",
        "      flag = False\n",
        "      print(\"Remo: you are welcome\")\n",
        "\n",
        "    else:\n",
        "      if (greeting(user_response) != None):\n",
        "        print(\"Remo:\" + greeting(user_response))\n",
        "\n",
        "      else:\n",
        "        print(\"Remo\" , end = \"\")\n",
        "        print(response(user_response))\n",
        "        sent_tokens.remove(user_response)\n",
        "\n",
        "  else:\n",
        "    flag = False\n",
        "    print(\"Remo : Bye! Take care\")\n",
        "\n"
      ],
      "metadata": {
        "colab": {
          "base_uri": "https://localhost:8080/"
        },
        "id": "3oIGDrV3Hzv6",
        "outputId": "adbf57c8-8d24-4723-a2e3-b389bab0329e"
      },
      "execution_count": null,
      "outputs": [
        {
          "output_type": "stream",
          "name": "stdout",
          "text": [
            "Remo: My name is Remo. I will answer your questions about NLP. if you want to exit , type Quit,bye,exit\n",
            "hi\n",
            "true\n",
            "Remo:hi\n",
            "Neurologist\n",
            "true\n",
            "Remoneurology at highland hospital\n",
            "what is a neurologist?\n",
            "what is Neurologist\n",
            "true\n",
            "Remoneurology at highland hospital\n",
            "what is a neurologist?\n",
            "Neurology\n",
            "true\n",
            "Remointroduction to neurology\n",
            "neurology is the branch of medicine concerned with the study and treatment of disorders of the nervous system.\n",
            "NLP\n",
            "true\n",
            "Remostatistical nlp, machine learning, and deep learning\n",
            "the earliest nlp applications were hand-coded, rules-based systems that could perform certain nlp tasks, but couldn't easily scale to accommodate a seemingly endless stream of exceptions or the increasing volumes of text and voice data.\n",
            "quit\n",
            "true\n",
            "RemoI am sorry , I dont understand you\n",
            "exit\n",
            "Remo : Bye! Take care\n"
          ]
        }
      ]
    },
    {
      "cell_type": "code",
      "source": [
        ""
      ],
      "metadata": {
        "id": "GBRPl4HEKneg"
      },
      "execution_count": null,
      "outputs": []
    }
  ]
}